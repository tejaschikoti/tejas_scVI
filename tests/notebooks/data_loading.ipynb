{
 "cells": [
  {
   "cell_type": "markdown",
   "metadata": {},
   "source": [
    "# Data Loading Tutorial"
   ]
  },
  {
   "cell_type": "code",
   "execution_count": 1,
   "metadata": {},
   "outputs": [],
   "source": [
    "# Below is code that helps us test the notebooks\n",
    "# when not testing, we make the save_path a directory called data\n",
    "# in the scVI root directory, feel free to move anywhere"
   ]
  },
  {
   "cell_type": "code",
   "execution_count": 2,
   "metadata": {},
   "outputs": [],
   "source": [
    "def allow_notebook_for_test():\n",
    "    print(\"Testing the data loading notebook\")\n",
    "\n",
    "test_mode = False\n",
    "save_path = \"data/\"\n",
    "\n",
    "# Feel free to move this to any convenient location\n",
    "if not test_mode:\n",
    "    save_path = \"../../data\""
   ]
  },
  {
   "cell_type": "code",
   "execution_count": 3,
   "metadata": {},
   "outputs": [
    {
     "name": "stderr",
     "output_type": "stream",
     "text": [
      "[2019-10-01 09:07:08,503] INFO - scvi._settings | Added StreamHandler with custom formatter to 'scvi' logger.\n"
     ]
    }
   ],
   "source": [
    "from scvi.dataset import LoomDataset, CsvDataset, Dataset10X, DownloadableAnnDataset\n",
    "import urllib.request\n",
    "import os\n",
    "from scvi.dataset import BrainLargeDataset, CortexDataset, PbmcDataset, RetinaDataset, HematoDataset, CbmcDataset, BrainSmallDataset, SmfishDataset"
   ]
  },
  {
   "cell_type": "markdown",
   "metadata": {},
   "source": [
    "## Generic Datasets\n",
    "`scvi` supports dataset loading for the following three generic file formats: \n",
    "* `.loom` files\n",
    "* `.csv` files \n",
    "* `.h5ad` files\n",
    "* datasets processed with Cell Ranger (or from `10x` website)\n",
    "\n",
    "Most of the dataset loading instances implemented in scvi use a positional argument `filename` and an optional argument `save_path` (value by default: `data/`). Files will be downloaded or searched for at the location `os.path.join(save_path, filename)`, make sure this path is valid when you specify the arguments.\n",
    "\n",
    "scVI can now also handle `10x` datasets with CITE-seq protein measurements (shown below)."
   ]
  },
  {
   "cell_type": "markdown",
   "metadata": {},
   "source": [
    "### Loading a `.loom` file\n",
    "Any `.loom` file can be loaded with initializing `LoomDataset` with `filename`.\n",
    "\n",
    "Optional parameters: \n",
    "* `save_path`: save path (default to be `data/`) of the file\n",
    "* `url`: url the dataset if the file needs to be downloaded from the web\n",
    "* `new_n_genes`: the number of subsampling genes - set it to be `False` to turn off subsampling\n",
    "* `subset_genes`: a list of gene names for subsampling"
   ]
  },
  {
   "cell_type": "code",
   "execution_count": 4,
   "metadata": {},
   "outputs": [
    {
     "name": "stderr",
     "output_type": "stream",
     "text": [
      "[2019-10-01 09:07:10,167] INFO - scvi.dataset.dataset | Downloading file at /Users/adamgayoso/Google Drive/Berkeley/Software/scVI/data/osmFISH_SScortex_mouse_all_cell.loom\n",
      "[2019-10-01 09:07:10,244] INFO - scvi.dataset.loom | Preprocessing dataset\n",
      "[2019-10-01 09:07:10,271] WARNING - scvi.dataset.loom | Removing non-expressing cells\n",
      "[2019-10-01 09:07:10,389] INFO - scvi.dataset.loom | Finished preprocessing dataset\n",
      "[2019-10-01 09:07:10,392] WARNING - scvi.dataset.dataset | X is a protected attribute and cannot be set with this name in initialize_cell_attribute, changing name to X_cell and setting\n",
      "[2019-10-01 09:07:10,393] INFO - scvi.dataset.dataset | Remapping labels to [0,N]\n",
      "[2019-10-01 09:07:10,395] INFO - scvi.dataset.dataset | Remapping batch_indices to [0,N]\n"
     ]
    }
   ],
   "source": [
    "# Loading a remote dataset \n",
    "remote_loom_dataset = LoomDataset(\"osmFISH_SScortex_mouse_all_cell.loom\", \n",
    "                                  save_path=save_path, \n",
    "                                  url='http://linnarssonlab.org/osmFISH/osmFISH_SScortex_mouse_all_cells.loom')"
   ]
  },
  {
   "cell_type": "code",
   "execution_count": 5,
   "metadata": {},
   "outputs": [
    {
     "name": "stderr",
     "output_type": "stream",
     "text": [
      "[2019-10-01 09:07:11,038] INFO - scvi.dataset.loom | Preprocessing dataset\n",
      "[2019-10-01 09:07:11,070] WARNING - scvi.dataset.loom | Removing non-expressing cells\n",
      "[2019-10-01 09:07:11,193] INFO - scvi.dataset.loom | Finished preprocessing dataset\n",
      "[2019-10-01 09:07:11,197] WARNING - scvi.dataset.dataset | X is a protected attribute and cannot be set with this name in initialize_cell_attribute, changing name to X_cell and setting\n",
      "[2019-10-01 09:07:11,198] INFO - scvi.dataset.dataset | Remapping labels to [0,N]\n",
      "[2019-10-01 09:07:11,200] INFO - scvi.dataset.dataset | Remapping batch_indices to [0,N]\n"
     ]
    }
   ],
   "source": [
    "# Loading a local dataset \n",
    "local_loom_dataset = LoomDataset(\"osmFISH_SScortex_mouse_all_cell.loom\", \n",
    "                                 save_path=save_path)"
   ]
  },
  {
   "cell_type": "markdown",
   "metadata": {},
   "source": [
    "### Loading a `.csv` file \n",
    "Any `.csv` file can be loaded with initializing `CsvDataset` with `filename`.\n",
    "\n",
    "Optional parameters: \n",
    "* `save_path`: save path (default to be `data/`) of the file\n",
    "* `url`: url of the dataset if the file needs to be downloaded from the web\n",
    "* `compression`: set `compression` as `.gz`, `.bz2`, `.zip`, or `.xz` to load a zipped `csv` file \n",
    "* `new_n_genes`: the number of subsampling genes - set it to be `None` to turn off subsampling\n",
    "* `subset_genes`: a list of gene names for subsampling \n",
    "\n",
    "Note: `CsvDataset` currently only supoorts `.csv` files that are genes by cells. "
   ]
  },
  {
   "cell_type": "markdown",
   "metadata": {},
   "source": [
    "If the dataset has already been downloaded at the location `save_path`, it will not be downloaded again."
   ]
  },
  {
   "cell_type": "code",
   "execution_count": 6,
   "metadata": {},
   "outputs": [
    {
     "name": "stderr",
     "output_type": "stream",
     "text": [
      "[2019-10-01 09:07:39,627] INFO - scvi.dataset.dataset | Downloading file at /Users/adamgayoso/Google Drive/Berkeley/Software/scVI/data/GSE100866_CBMC_8K_13AB_10X-RNA_umi.csv.gz\n",
      "[2019-10-01 09:07:41,457] INFO - scvi.dataset.csv | Preprocessing dataset\n",
      "[2019-10-01 09:09:46,750] INFO - scvi.dataset.csv | Finished preprocessing dataset\n",
      "[2019-10-01 09:09:50,655] INFO - scvi.dataset.dataset | Remapping labels to [0,N]\n",
      "[2019-10-01 09:09:50,659] INFO - scvi.dataset.dataset | Remapping batch_indices to [0,N]\n",
      "[2019-10-01 09:09:51,992] INFO - scvi.dataset.dataset | Computing the library size for the new data\n",
      "[2019-10-01 09:09:53,389] INFO - scvi.dataset.dataset | Downsampled from 8617 to 8617 cells\n",
      "[2019-10-01 09:10:16,073] INFO - scvi.dataset.dataset | Downsampling from 36280 to 600 genes\n",
      "[2019-10-01 09:10:16,406] INFO - scvi.dataset.dataset | Computing the library size for the new data\n",
      "[2019-10-01 09:10:16,453] INFO - scvi.dataset.dataset | Filtering non-expressing cells.\n",
      "[2019-10-01 09:10:16,469] INFO - scvi.dataset.dataset | Computing the library size for the new data\n",
      "[2019-10-01 09:10:16,477] INFO - scvi.dataset.dataset | Downsampled from 8617 to 8617 cells\n"
     ]
    }
   ],
   "source": [
    "# Loading a remote dataset \n",
    "remote_csv_dataset = CsvDataset(\"GSE100866_CBMC_8K_13AB_10X-RNA_umi.csv.gz\",\n",
    "                                save_path=save_path,\n",
    "                                new_n_genes=600,\n",
    "                                compression='gzip', \n",
    "                                url = \"https://www.ncbi.nlm.nih.gov/geo/download/?acc=GSE100866&format=file&file=GSE100866%5FCBMC%5F8K%5F13AB%5F10X%2DRNA%5Fumi%2Ecsv%2Egz\")"
   ]
  },
  {
   "cell_type": "code",
   "execution_count": 7,
   "metadata": {},
   "outputs": [
    {
     "name": "stderr",
     "output_type": "stream",
     "text": [
      "[2019-10-01 09:10:16,547] INFO - scvi.dataset.csv | Preprocessing dataset\n",
      "[2019-10-01 09:11:43,587] INFO - scvi.dataset.csv | Finished preprocessing dataset\n",
      "[2019-10-01 09:11:45,660] INFO - scvi.dataset.dataset | Remapping labels to [0,N]\n",
      "[2019-10-01 09:11:45,662] INFO - scvi.dataset.dataset | Remapping batch_indices to [0,N]\n",
      "[2019-10-01 09:11:46,563] INFO - scvi.dataset.dataset | Computing the library size for the new data\n",
      "[2019-10-01 09:11:47,483] INFO - scvi.dataset.dataset | Downsampled from 8617 to 8617 cells\n",
      "[2019-10-01 09:12:05,327] INFO - scvi.dataset.dataset | Downsampling from 36280 to 600 genes\n",
      "[2019-10-01 09:12:05,929] INFO - scvi.dataset.dataset | Computing the library size for the new data\n",
      "[2019-10-01 09:12:05,976] INFO - scvi.dataset.dataset | Filtering non-expressing cells.\n",
      "[2019-10-01 09:12:05,995] INFO - scvi.dataset.dataset | Computing the library size for the new data\n",
      "[2019-10-01 09:12:06,005] INFO - scvi.dataset.dataset | Downsampled from 8617 to 8617 cells\n"
     ]
    }
   ],
   "source": [
    "# Loading a local dataset \n",
    "local_csv_dataset = CsvDataset(\"GSE100866_CBMC_8K_13AB_10X-RNA_umi.csv.gz\", \n",
    "                               save_path=save_path, \n",
    "                               new_n_genes=600,\n",
    "                               compression='gzip') "
   ]
  },
  {
   "cell_type": "markdown",
   "metadata": {},
   "source": [
    "### Loading a `.h5ad` file\n",
    "[AnnData](http://anndata.readthedocs.io/en/latest/) objects can be stored in `.h5ad` format. Any `.h5ad` file can be loaded with initializing `DownloadableAnnDataset` with `filename`.\n",
    "\n",
    "Optional parameters: \n",
    "* `save_path`: save path (default to be `data/`) of the file\n",
    "* `url`: url the dataset if the file needs to be downloaded from the web"
   ]
  },
  {
   "cell_type": "code",
   "execution_count": 8,
   "metadata": {},
   "outputs": [
    {
     "name": "stderr",
     "output_type": "stream",
     "text": [
      "[2019-10-01 09:12:06,873] INFO - scvi.dataset.dataset | Downloading file at /Users/adamgayoso/Google Drive/Berkeley/Software/scVI/data/TM_droplet_mat.h5ad\n",
      "[2019-10-01 09:12:06,919] INFO - scvi.dataset.anndataset | Dense size under 1Gb, casting to dense format (np.ndarray).\n",
      "[2019-10-01 09:12:06,921] INFO - scvi.dataset.dataset | Remapping labels to [0,N]\n",
      "[2019-10-01 09:12:06,923] INFO - scvi.dataset.dataset | Remapping batch_indices to [0,N]\n",
      "[2019-10-01 09:12:06,924] INFO - scvi.dataset.dataset | Computing the library size for the new data\n",
      "[2019-10-01 09:12:06,926] INFO - scvi.dataset.dataset | Downsampled from 47 to 47 cells\n"
     ]
    }
   ],
   "source": [
    "# Loading a remote anndata dataset \n",
    "remote_ann_dataset = DownloadableAnnDataset(\n",
    "    \"TM_droplet_mat.h5ad\", \n",
    "    save_path=save_path, \n",
    "    url='https://github.com/YosefLab/scVI/blob/master/tests/data/TM_droplet_mat.h5ad?raw=true'\n",
    ")\n",
    "\n",
    "# Loading a local anndata dataset (output not shown)\n",
    "# import anndata\n",
    "# anndataset = anndata.read(save_path + \"TM_droplet_mat.h5ad\")\n",
    "# dataset = AnnDatasetFromAnnData(ad = anndataset)"
   ]
  },
  {
   "cell_type": "markdown",
   "metadata": {},
   "source": [
    "### Loading outputs from Cell Ranger (`10x Genomics`)"
   ]
  },
  {
   "cell_type": "markdown",
   "metadata": {},
   "source": [
    "scVI can download datasets from the `10x` website, or load a local directory with outputs generated by Cell Ranger. "
   ]
  },
  {
   "cell_type": "markdown",
   "metadata": {},
   "source": [
    "`10x` has published several datasets on their [website](https://www.10xgenomics.com). \n",
    "Initialize `Dataset10X` by passing in the dataset name of one of the following datasets that `scvi` currently supports. Please check `dataset10x.py` for a full list of supported datasets. If the dataset has already been downloaded at the location `save_path`, it will not be downloaded again.\n",
    "\n",
    "The batch indices after the 10x barcode (e.g., `AAAAAA-1`) is automatically added to the `batch_indices` dataset attribute.\n",
    "\n",
    "Optional parameters: \n",
    "* `save_path`: save path (default to be `data/`) of the file\n",
    "* `type`: set `type` (default to be `filtered`) to be `filtered` or `raw` to choose one from the two datasets that's available on `10X`\n",
    "* `dense`: bool of whether to load as a dense matrix (scVI can be faster since it doesn't have to densify minibatches). We recommend setting this to `True` (not default).\n",
    "* `measurement_names_column` column in which to find measurement names in the corresponding `.tsv` file.\n"
   ]
  },
  {
   "cell_type": "markdown",
   "metadata": {},
   "source": [
    "#### Downloading `10x` data\n",
    "\n",
    "`pbmc_10k_protein_v3` is the name of a publicly available dataset from `10x`."
   ]
  },
  {
   "cell_type": "code",
   "execution_count": 9,
   "metadata": {},
   "outputs": [
    {
     "name": "stderr",
     "output_type": "stream",
     "text": [
      "[2019-10-01 09:12:06,970] INFO - scvi.dataset.dataset | Downloading file at /Users/adamgayoso/Google Drive/Berkeley/Software/scVI/data/10X/pbmc_10k_protein_v3/filtered_feature_bc_matrix.tar.gz\n",
      "[2019-10-01 09:12:08,414] INFO - scvi.dataset.dataset10X | Preprocessing dataset\n",
      "[2019-10-01 09:12:08,417] INFO - scvi.dataset.dataset10X | Extracting tar file\n",
      "[2019-10-01 09:12:41,192] INFO - scvi.dataset.dataset10X | Finished preprocessing dataset\n",
      "[2019-10-01 09:12:41,346] INFO - scvi.dataset.dataset | Remapping labels to [0,N]\n",
      "[2019-10-01 09:12:41,348] INFO - scvi.dataset.dataset | Remapping batch_indices to [0,N]\n",
      "[2019-10-01 09:12:41,387] INFO - scvi.dataset.dataset | Computing the library size for the new data\n",
      "[2019-10-01 09:12:41,484] INFO - scvi.dataset.dataset | Downsampled from 7865 to 7865 cells\n"
     ]
    }
   ],
   "source": [
    "tenX_dataset = Dataset10X(\"pbmc_10k_protein_v3\", save_path=os.path.join(save_path, \"10X\"), measurement_names_column=1)"
   ]
  },
  {
   "cell_type": "markdown",
   "metadata": {},
   "source": [
    "#### Loading local `10x` data "
   ]
  },
  {
   "cell_type": "markdown",
   "metadata": {},
   "source": [
    "It is also possible to create a Dataset object from 10X data saved locally. Here scVI assumes that in the directory defined by the `save_path` there exists another directory with the `matrix`, `features/genes` and `barcodes` files. As long as this directory was directly outputted by Cell Ranger and no other files were added, this function will work. If you are struggling to use this function, you may want to load your data using `scanpy` and save an `AnnData` object. \n",
    "\n",
    "In the example below, inside the save path a directory named `filtered_feature_bc_matrix` exists containing ONLY the files `barcodes.tsv.gz`, `features.tsv.gz`, `matrix.mtx.gz`. The name and compression of these files may depend on the version of Cell Ranger and scVI will adapt accordingly. "
   ]
  },
  {
   "cell_type": "code",
   "execution_count": 10,
   "metadata": {},
   "outputs": [
    {
     "name": "stderr",
     "output_type": "stream",
     "text": [
      "[2019-10-01 09:12:41,522] INFO - scvi.dataset.dataset10X | Preprocessing dataset\n",
      "[2019-10-01 09:13:13,262] INFO - scvi.dataset.dataset10X | Finished preprocessing dataset\n",
      "[2019-10-01 09:13:13,403] INFO - scvi.dataset.dataset | Remapping labels to [0,N]\n",
      "[2019-10-01 09:13:13,404] INFO - scvi.dataset.dataset | Remapping batch_indices to [0,N]\n",
      "[2019-10-01 09:13:13,443] INFO - scvi.dataset.dataset | Computing the library size for the new data\n",
      "[2019-10-01 09:13:13,557] INFO - scvi.dataset.dataset | Downsampled from 7865 to 7865 cells\n"
     ]
    }
   ],
   "source": [
    "local_10X_dataset = Dataset10X(\n",
    "    save_path=os.path.join(save_path, \"10X/pbmc_10k_protein_v3/\"), \n",
    "    measurement_names_column=1,\n",
    ")"
   ]
  },
  {
   "cell_type": "markdown",
   "metadata": {},
   "source": [
    "## Exploring a dataset object\n",
    "\n",
    "A GeneExpressionDataset has `cell_attributes`, `gene_attributes`, and `cell_categorical_attributes`. \n",
    "\n",
    "The `pbmc10k_protein_v3` from 10X Genomics also has CITE-seq protein data, which we show how to access."
   ]
  },
  {
   "cell_type": "code",
   "execution_count": 11,
   "metadata": {},
   "outputs": [
    {
     "name": "stdout",
     "output_type": "stream",
     "text": [
      "GeneExpressionDataset object with n_cells x nb_genes = 7865 x 33538\n",
      "    gene_attribute_names: 'gene_names'\n",
      "    cell_attribute_names: 'barcodes', 'local_vars', 'batch_indices', 'labels', 'protein_expression', 'local_means'\n",
      "    cell_categorical_attribute_names: 'labels', 'batch_indices'\n",
      "    cell_measurements_col_mappings: {'protein_expression': 'protein_names'}\n"
     ]
    }
   ],
   "source": [
    "print(tenX_dataset)"
   ]
  },
  {
   "cell_type": "code",
   "execution_count": 12,
   "metadata": {},
   "outputs": [
    {
     "data": {
      "text/plain": [
       "array(['MIR1302-2HG', 'FAM138A', 'OR4F5', ..., 'AC240274.1', 'AC213203.1',\n",
       "       'FAM231C'], dtype='<U64')"
      ]
     },
     "execution_count": 12,
     "metadata": {},
     "output_type": "execute_result"
    }
   ],
   "source": [
    "tenX_dataset.gene_names"
   ]
  },
  {
   "cell_type": "code",
   "execution_count": 13,
   "metadata": {},
   "outputs": [
    {
     "data": {
      "text/plain": [
       "array([[  18,  138,   13, ...,    5,    2,    3],\n",
       "       [  30,  119,   19, ...,    4,    8,    3],\n",
       "       [  18,  207,   10, ...,   12,   19,    6],\n",
       "       ...,\n",
       "       [  39,  249,   10, ...,    8,   12,    2],\n",
       "       [ 914, 2240,   16, ...,    3,    7,    1],\n",
       "       [1885, 2788,   25, ...,    7,    3,    2]], dtype=int64)"
      ]
     },
     "execution_count": 13,
     "metadata": {},
     "output_type": "execute_result"
    }
   ],
   "source": [
    "tenX_dataset.protein_expression"
   ]
  },
  {
   "cell_type": "code",
   "execution_count": 14,
   "metadata": {},
   "outputs": [
    {
     "data": {
      "text/plain": [
       "array(['CD3_TotalSeqB', 'CD4_TotalSeqB', 'CD8a_TotalSeqB',\n",
       "       'CD14_TotalSeqB', 'CD15_TotalSeqB', 'CD16_TotalSeqB',\n",
       "       'CD56_TotalSeqB', 'CD19_TotalSeqB', 'CD25_TotalSeqB',\n",
       "       'CD45RA_TotalSeqB', 'CD45RO_TotalSeqB', 'PD-1_TotalSeqB',\n",
       "       'TIGIT_TotalSeqB', 'CD127_TotalSeqB', 'IgG2a_control_TotalSeqB',\n",
       "       'IgG1_control_TotalSeqB', 'IgG2b_control_TotalSeqB'], dtype=object)"
      ]
     },
     "execution_count": 14,
     "metadata": {},
     "output_type": "execute_result"
    }
   ],
   "source": [
    "tenX_dataset.protein_names"
   ]
  },
  {
   "cell_type": "code",
   "execution_count": 15,
   "metadata": {},
   "outputs": [
    {
     "data": {
      "text/plain": [
       "array(['AAACCCAAGATTGTGA-1', 'AAACCCACATCGGTTA-1', 'AAACCCAGTACCGCGT-1',\n",
       "       ..., 'TTTGTTGGTTGCGGCT-1', 'TTTGTTGTCGAGTGAG-1',\n",
       "       'TTTGTTGTCGTTCAGA-1'], dtype='<U64')"
      ]
     },
     "execution_count": 15,
     "metadata": {},
     "output_type": "execute_result"
    }
   ],
   "source": [
    "tenX_dataset.barcodes"
   ]
  },
  {
   "cell_type": "markdown",
   "metadata": {},
   "source": [
    "## Subsetting a dataset object\n",
    "\n",
    "At the core, we have two methods `GeneExpressionDataset.update_cells(subset)` and `GeneExpressionDataset.update_genes(subset)`.\n",
    "\n",
    "The `subset` should be defined as an `np.ndarray` of either ``int``'s with arbitrary shape which values are the indexes of the cells/genes to keep or boolean array used as a mask-like index. When subsetting, all gene and cell attributes are also updated.\n",
    "\n",
    "These methods can be used directly, but we also have helpful wrappers around them. For example:\n"
   ]
  },
  {
   "cell_type": "code",
   "execution_count": 16,
   "metadata": {},
   "outputs": [
    {
     "name": "stderr",
     "output_type": "stream",
     "text": [
      "[2019-10-01 09:15:35,060] INFO - scvi.dataset.dataset | Downsampling from 33538 to 3000 genes\n",
      "[2019-10-01 09:15:35,172] INFO - scvi.dataset.dataset | Computing the library size for the new data\n",
      "[2019-10-01 09:15:35,207] INFO - scvi.dataset.dataset | Filtering non-expressing cells.\n",
      "[2019-10-01 09:15:35,245] INFO - scvi.dataset.dataset | Computing the library size for the new data\n",
      "[2019-10-01 09:15:35,282] INFO - scvi.dataset.dataset | Downsampled from 7865 to 7865 cells\n"
     ]
    }
   ],
   "source": [
    "# Take the top 3000 genes by variance across cells\n",
    "tenX_dataset.subsample_genes(new_n_genes=3000)"
   ]
  },
  {
   "cell_type": "code",
   "execution_count": 17,
   "metadata": {},
   "outputs": [
    {
     "name": "stderr",
     "output_type": "stream",
     "text": [
      "[2019-10-01 09:16:05,710] INFO - scvi.dataset.dataset | Computing the library size for the new data\n",
      "[2019-10-01 09:16:05,746] INFO - scvi.dataset.dataset | Downsampled from 7865 to 7661 cells\n"
     ]
    }
   ],
   "source": [
    "# Retain cells with >= 1200 UMI counts\n",
    "tenX_dataset.filter_cells_by_count(1200)"
   ]
  },
  {
   "cell_type": "code",
   "execution_count": 19,
   "metadata": {},
   "outputs": [
    {
     "name": "stderr",
     "output_type": "stream",
     "text": [
      "[2019-10-01 09:19:35,978] INFO - scvi.dataset.dataset | Downsampling from 3000 to 215 genes\n",
      "[2019-10-01 09:19:36,024] INFO - scvi.dataset.dataset | Computing the library size for the new data\n",
      "[2019-10-01 09:19:36,032] WARNING - scvi.dataset.dataset | This dataset has some empty cells, this might fail scVI inference.Data should be filtered with `my_dataset.filter_cells_by_count()\n",
      "[2019-10-01 09:19:36,049] INFO - scvi.dataset.dataset | Filtering non-expressing cells.\n",
      "[2019-10-01 09:19:36,055] INFO - scvi.dataset.dataset | Computing the library size for the new data\n",
      "[2019-10-01 09:19:36,059] INFO - scvi.dataset.dataset | Downsampled from 7661 to 7660 cells\n"
     ]
    }
   ],
   "source": [
    "# Retain genes that start with letter \"A\"\n",
    "retain = []\n",
    "for i, g in enumerate(tenX_dataset.gene_names):\n",
    "    if g.startswith(\"A\"):\n",
    "        retain.append(i)\n",
    "tenX_dataset.subsample_genes(subset_genes=retain)"
   ]
  },
  {
   "cell_type": "markdown",
   "metadata": {},
   "source": [
    "## Built-In Datasets "
   ]
  },
  {
   "cell_type": "markdown",
   "metadata": {},
   "source": [
    "We've also implemented seven built-in datasets to make it easier to reproduce results from the scVI paper. \n",
    "\n",
    "* **PBMC**: 12,039 human peripheral blood mononuclear cells profiled with 10x; \n",
    "* **RETINA**: 27,499 mouse retinal bipolar neurons, profiled in two batches using the Drop-Seq technology; \n",
    "* **HEMATO**: 4,016 cells from two batches that were profiled using in-drop; \n",
    "* **CBMC**: 8,617 cord blood mononuclear cells profiled using 10x along with, for each cell, 13 well-characterized mononuclear antibodies; \n",
    "* **BRAIN SMALL**: 9,128 mouse brain cells profiled using 10x. \n",
    "* **BRAIN LARGE**: 1.3 million mouse brain cells profiled using 10x;\n",
    "* **CORTEX**: 3,005 mouse Cortex cells profiled using the Smart-seq2 protocol, with the addition of UMI\n",
    "* **SMFISH**: 4,462 mouse Cortex cells profiled using the osmFISH protocol\n",
    "* **DROPSEQ**: 71,639 mouse Cortex cells profiled using the Drop-Seq technology\n",
    "* **STARMAP**: 3,722 mouse Cortex cells profiled using the STARmap technology\n",
    "\n",
    "We do not show the outputs of running the commands below"
   ]
  },
  {
   "cell_type": "markdown",
   "metadata": {},
   "source": [
    "### Loading `STARMAP` dataset\n",
    "`StarmapDataset` consists of 3722 cells profiled in 3 batches. The cells come with spatial coordinates of their location inside the tissue from which they were extracted and cell type labels retrieved by the authors ofthe original publication.\n",
    "\n",
    "Reference: X.Wang et al., Science10.1126/science.aat5691 (2018)"
   ]
  },
  {
   "cell_type": "markdown",
   "metadata": {},
   "source": [
    "### Loading `DROPSEQ` dataset\n",
    "`DropseqDataset` consists of 71,639 mouse Cortex cells profiled using the Drop-Seq technology. To facilitate comparison with other methods we use a random filtered set of 15000 cells and then keep only a filtered set of 6000 highly variable genes. Cells have cell type annotaions and even sub-cell type annotations inferred by the authors of the original publication.\n",
    "\n",
    "Reference: https://www.biorxiv.org/content/biorxiv/early/2018/04/10/299081.full.pdf"
   ]
  },
  {
   "cell_type": "markdown",
   "metadata": {},
   "source": [
    "### Loading `SMFISH` dataset\n",
    "`SmfishDataset` consists of 4,462 mouse cortex cells profiled using the OsmFISH protocol. The cells come with spatial coordinates of their location inside the tissue from which they were extracted and cell type labels retrieved by the authors of the original publication.\n",
    "\n",
    "Reference: Simone Codeluppi, Lars E Borm, Amit Zeisel, Gioele La Manno, Josina A van Lunteren, Camilla I Svensson, and Sten Linnarsson. Spatial organization of the somatosensory cortex revealed by cyclic smFISH. bioRxiv, 2018."
   ]
  },
  {
   "cell_type": "code",
   "execution_count": 20,
   "metadata": {},
   "outputs": [],
   "source": [
    "smfish_dataset = SmfishDataset(save_path=save_path)"
   ]
  },
  {
   "cell_type": "markdown",
   "metadata": {},
   "source": [
    "### Loading `BRAIN-LARGE` dataset\n",
    "\n",
    "<font color='red'>Loading BRAIN-LARGE requires at least 32 GB memory!</font>\n",
    "\n",
    "`BrainLargeDataset` consists of 1.3 million mouse brain cells, spanning the cortex, hippocampus and subventricular zone, and profiled with 10x chromium. We use this dataset to demonstrate the scalability of scVI. It can be used to demonstrate the scalability of scVI.  \n",
    "\n",
    "Reference: 10x genomics (2017). URL https://support.10xgenomics.com/single-cell-gene-expression/datasets. "
   ]
  },
  {
   "cell_type": "code",
   "execution_count": 21,
   "metadata": {},
   "outputs": [],
   "source": [
    "brain_large_dataset = BrainLargeDataset(save_path=save_path) "
   ]
  },
  {
   "cell_type": "markdown",
   "metadata": {},
   "source": [
    "### Loading `CORTEX` dataset\n",
    "`CortexDataset` consists of 3,005 mouse cortex cells profiled with the Smart-seq2 protocol, with the addition of UMI. To facilitate com- parison with other methods, we use a filtered set of 558 highly variable genes. The `CortexDataset` exhibits a clear high-level subpopulation struc- ture, which has been inferred by the authors of the original publication using computational tools and annotated by inspection of specific genes or transcriptional programs. Similar levels of annotation are provided with the `PbmcDataset` and `RetinaDataset`. \n",
    "\n",
    "Reference: Zeisel, A. et al. Cell types in the mouse cortex and hippocampus revealed by single-cell rna-seq. Science 347, 1138–1142 (2015). "
   ]
  },
  {
   "cell_type": "code",
   "execution_count": 22,
   "metadata": {},
   "outputs": [],
   "source": [
    "cortex_dataset = CortexDataset(save_path=save_path, total_genes=558) "
   ]
  },
  {
   "cell_type": "markdown",
   "metadata": {},
   "source": [
    "### Loading `PBMC` dataset\n",
    "`PbmcDataset` consists of 12,039 human peripheral blood mononu- clear cells profiled with 10x. \n",
    "\n",
    "Reference: Zheng, G. X. Y. et al. Massively parallel digital transcriptional profiling of single cells. Nature Communications 8, 14049 (2017). "
   ]
  },
  {
   "cell_type": "code",
   "execution_count": 23,
   "metadata": {},
   "outputs": [],
   "source": [
    "pbmc_dataset = PbmcDataset(save_path=save_path, save_path_10X=os.path.join(save_path, \"10X\"))"
   ]
  },
  {
   "cell_type": "markdown",
   "metadata": {},
   "source": [
    "### Loading `RETINA` dataset \n",
    "`RetinaDataset` includes 27,499 mouse retinal bipolar neu- rons, profiled in two batches using the Drop-Seq technology. \n",
    "\n",
    "Reference: Shekhar, K. et al. Comprehensive classification of retinal bipolar neurons by single-cell transcriptomics. Cell 166, 1308–1323.e30 (2017). "
   ]
  },
  {
   "cell_type": "code",
   "execution_count": 24,
   "metadata": {},
   "outputs": [],
   "source": [
    "retina_dataset = RetinaDataset(save_path=save_path)"
   ]
  },
  {
   "cell_type": "markdown",
   "metadata": {},
   "source": [
    "### Loading `HEMATO` dataset \n",
    "`HematoDataset` includes 4,016 cells from two batches that were profiled using in-drop. This data provides a snapshot of hematopoietic progenitor cells differentiating into various lineages. We use this dataset as an example for cases where gene expression varies in a continuous fashion (along pseudo-temporal axes) rather than forming discrete subpopulations. \n",
    "\n",
    "Reference: Tusi, B. K. et al. Population snapshots predict early haematopoietic and erythroid hierarchies. Nature 555, 54–60 (2018)."
   ]
  },
  {
   "cell_type": "code",
   "execution_count": 25,
   "metadata": {},
   "outputs": [],
   "source": [
    "hemato_dataset = HematoDataset(save_path=os.path.join(save_path, 'HEMATO/')) "
   ]
  },
  {
   "cell_type": "markdown",
   "metadata": {},
   "source": [
    "### Loading `CBMC` dataset\n",
    "`CbmcDataset` includes 8,617 cord blood mononuclear cells pro- filed using 10x along with, for each cell, 13 well-characterized mononuclear antibodies. We used this dataset to analyze how the latent spaces inferred by dimensionality-reduction algorithms summarize protein marker abundance.\n",
    "\n",
    "Reference: Stoeckius, M. et al. Simultaneous epitope and transcriptome measurement in single cells. Nature Methods 14, 865–868 (2017)."
   ]
  },
  {
   "cell_type": "code",
   "execution_count": 26,
   "metadata": {},
   "outputs": [],
   "source": [
    "cbmc_dataset = CbmcDataset(save_path=os.path.join(save_path, \"citeSeq/\"))"
   ]
  },
  {
   "cell_type": "markdown",
   "metadata": {},
   "source": [
    "### Loading `BRAIN-SMALL` dataset\n",
    "`BrainSmallDataset` consists of 9,128 mouse brain cells profiled using 10x. This dataset is used as a complement to PBMC for our study of zero abundance and quality control metrics correlation with our generative posterior parameters.\n",
    "\n",
    "Reference: "
   ]
  },
  {
   "cell_type": "code",
   "execution_count": 27,
   "metadata": {},
   "outputs": [],
   "source": [
    "brain_small_dataset = BrainSmallDataset(save_path=save_path, save_path_10X=os.path.join(save_path, \"10X\"))"
   ]
  }
 ],
 "metadata": {
  "kernelspec": {
   "display_name": "scvi",
   "language": "python",
   "name": "scvi"
  },
  "language_info": {
   "codemirror_mode": {
    "name": "ipython",
    "version": 3
   },
   "file_extension": ".py",
   "mimetype": "text/x-python",
   "name": "python",
   "nbconvert_exporter": "python",
   "pygments_lexer": "ipython3",
   "version": "3.7.3"
  }
 },
 "nbformat": 4,
 "nbformat_minor": 2
}
