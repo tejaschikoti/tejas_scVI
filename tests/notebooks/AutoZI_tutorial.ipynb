{
 "cells": [
  {
   "cell_type": "markdown",
   "metadata": {},
   "source": [
    "# Identifying zero-inflated genes with AutoZI"
   ]
  },
  {
   "cell_type": "markdown",
   "metadata": {},
   "source": [
    "AutoZI is a deep generative model adapted from scVI allowing a gene-specific treatment of zero-inflation. For each gene $g$, AutoZI notably learns the distribution of a random variable $\\delta_g$ which denotes the probability that gene $g$ is not zero-inflated. In this notebook, we present the use of the model on a PBMC dataset.\n",
    "\n",
    "More details about AutoZI can be found in : https://www.biorxiv.org/content/10.1101/794875v2"
   ]
  },
  {
   "cell_type": "code",
   "execution_count": 1,
   "metadata": {},
   "outputs": [],
   "source": [
    "# The next cell is some code we use to keep the notebooks tested.\n",
    "# Feel free to ignore!"
   ]
  },
  {
   "cell_type": "code",
   "execution_count": 2,
   "metadata": {},
   "outputs": [],
   "source": [
    "def allow_notebook_for_test():\n",
    "    print(\"Testing the totalVI notebook\")\n",
    "\n",
    "show_plot = True\n",
    "test_mode = False\n",
    "n_epochs_all = None\n",
    "save_path = \"data/\"\n",
    "\n",
    "if not test_mode:\n",
    "    save_path = \"../../data\""
   ]
  },
  {
   "cell_type": "markdown",
   "metadata": {},
   "source": [
    "## Imports and data loading"
   ]
  },
  {
   "cell_type": "code",
   "execution_count": 3,
   "metadata": {},
   "outputs": [
    {
     "name": "stderr",
     "output_type": "stream",
     "text": [
      "[2019-10-12 22:20:45,665] INFO - scvi._settings | Added StreamHandler with custom formatter to 'scvi' logger.\n",
      "/home/oscar/miniconda3/lib/python3.7/site-packages/scikit_learn-0.19.2-py3.7-linux-x86_64.egg/sklearn/ensemble/weight_boosting.py:29: DeprecationWarning: numpy.core.umath_tests is an internal NumPy module and should not be imported. It will be removed in a future NumPy release.\n",
      "  from numpy.core.umath_tests import inner1d\n"
     ]
    }
   ],
   "source": [
    "import matplotlib.pyplot as plt\n",
    "import numpy as np\n",
    "import pandas as pd\n",
    "import torch\n",
    "import anndata\n",
    "import os\n",
    "\n",
    "from scvi.dataset import PbmcDataset\n",
    "from scvi.models import AutoZIVAE\n",
    "from scvi.inference import UnsupervisedTrainer"
   ]
  },
  {
   "cell_type": "code",
   "execution_count": 4,
   "metadata": {},
   "outputs": [
    {
     "name": "stderr",
     "output_type": "stream",
     "text": [
      "[2019-10-12 22:20:50,348] INFO - scvi.dataset.dataset | File /media/storage/Documents/2. Professionnel/UC Berkeley Internship 2019/scVI-C/data/gene_info_pbmc.csv already downloaded\n",
      "[2019-10-12 22:20:50,349] INFO - scvi.dataset.dataset | File /media/storage/Documents/2. Professionnel/UC Berkeley Internship 2019/scVI-C/data/pbmc_metadata.pickle already downloaded\n",
      "[2019-10-12 22:20:50,388] INFO - scvi.dataset.dataset | File /media/storage/Documents/2. Professionnel/UC Berkeley Internship 2019/scVI-C/data/pbmc8k/filtered_gene_bc_matrices.tar.gz already downloaded\n",
      "[2019-10-12 22:20:50,389] INFO - scvi.dataset.dataset10X | Preprocessing dataset\n",
      "[2019-10-12 22:21:04,249] INFO - scvi.dataset.dataset10X | Finished preprocessing dataset\n",
      "[2019-10-12 22:21:04,334] INFO - scvi.dataset.dataset | Remapping batch_indices to [0,N]\n",
      "[2019-10-12 22:21:04,334] INFO - scvi.dataset.dataset | Remapping labels to [0,N]\n",
      "[2019-10-12 22:21:04,402] INFO - scvi.dataset.dataset | Computing the library size for the new data\n",
      "[2019-10-12 22:21:04,468] INFO - scvi.dataset.dataset | Downsampled from 8381 to 8381 cells\n",
      "[2019-10-12 22:21:04,474] INFO - scvi.dataset.dataset | File /media/storage/Documents/2. Professionnel/UC Berkeley Internship 2019/scVI-C/data/pbmc4k/filtered_gene_bc_matrices.tar.gz already downloaded\n",
      "[2019-10-12 22:21:04,474] INFO - scvi.dataset.dataset10X | Preprocessing dataset\n",
      "[2019-10-12 22:21:11,745] INFO - scvi.dataset.dataset10X | Finished preprocessing dataset\n",
      "[2019-10-12 22:21:11,793] INFO - scvi.dataset.dataset | Remapping batch_indices to [0,N]\n",
      "[2019-10-12 22:21:11,794] INFO - scvi.dataset.dataset | Remapping labels to [0,N]\n",
      "[2019-10-12 22:21:11,823] INFO - scvi.dataset.dataset | Computing the library size for the new data\n",
      "[2019-10-12 22:21:11,855] INFO - scvi.dataset.dataset | Downsampled from 4340 to 4340 cells\n",
      "[2019-10-12 22:21:11,902] INFO - scvi.dataset.dataset | Keeping 33694 genes\n",
      "[2019-10-12 22:21:12,025] INFO - scvi.dataset.dataset | Computing the library size for the new data\n",
      "[2019-10-12 22:21:12,092] INFO - scvi.dataset.dataset | Remapping batch_indices to [0,N]\n",
      "[2019-10-12 22:21:12,092] INFO - scvi.dataset.dataset | Remapping labels to [0,N]\n",
      "[2019-10-12 22:21:12,161] INFO - scvi.dataset.dataset | Computing the library size for the new data\n",
      "[2019-10-12 22:21:12,195] INFO - scvi.dataset.dataset | Remapping batch_indices to [0,N]\n",
      "[2019-10-12 22:21:12,196] INFO - scvi.dataset.dataset | Remapping labels to [0,N]\n",
      "[2019-10-12 22:21:12,333] INFO - scvi.dataset.dataset | Remapping batch_indices to [0,N]\n",
      "[2019-10-12 22:21:12,334] INFO - scvi.dataset.dataset | Remapping labels to [0,N]\n",
      "[2019-10-12 22:21:12,441] INFO - scvi.dataset.dataset | Computing the library size for the new data\n",
      "[2019-10-12 22:21:12,532] INFO - scvi.dataset.dataset | Downsampled from 12721 to 11990 cells\n",
      "[2019-10-12 22:21:12,581] INFO - scvi.dataset.dataset | Downsampling from 33694 to 3346 genes\n",
      "[2019-10-12 22:21:12,707] INFO - scvi.dataset.dataset | Computing the library size for the new data\n",
      "[2019-10-12 22:21:12,731] INFO - scvi.dataset.dataset | Filtering non-expressing cells.\n",
      "[2019-10-12 22:21:12,761] INFO - scvi.dataset.dataset | Computing the library size for the new data\n",
      "[2019-10-12 22:21:12,786] INFO - scvi.dataset.dataset | Downsampled from 11990 to 11990 cells\n",
      "[2019-10-12 22:21:12,859] INFO - scvi.dataset.dataset | Downsampling from 3346 to 1000 genes\n",
      "[2019-10-12 22:21:12,897] INFO - scvi.dataset.dataset | Computing the library size for the new data\n",
      "[2019-10-12 22:21:12,916] INFO - scvi.dataset.dataset | Filtering non-expressing cells.\n",
      "[2019-10-12 22:21:12,936] INFO - scvi.dataset.dataset | Computing the library size for the new data\n",
      "[2019-10-12 22:21:12,949] INFO - scvi.dataset.dataset | Downsampled from 11990 to 11990 cells\n"
     ]
    }
   ],
   "source": [
    "n_genes_to_keep = 100 if test_mode else 1000\n",
    "pbmc = PbmcDataset(save_path=save_path, save_path_10X=os.path.join(save_path, \"10X\"))\n",
    "pbmc.subsample_genes(new_n_genes=n_genes_to_keep)"
   ]
  },
  {
   "cell_type": "markdown",
   "metadata": {},
   "source": [
    "## Analyze gene-specific ZI"
   ]
  },
  {
   "cell_type": "markdown",
   "metadata": {},
   "source": [
    "In AutoZI, all $\\delta_g$'s follow a common $\\text{Beta}(\\alpha,\\beta)$ prior distribution where $\\alpha,\\beta \\in (0,1)$ and the zero-inflation probability in the ZINB component is bounded below by $\\tau_{\\text{dropout}} \\in (0,1)$. AutoZI is encoded by the `AutoZIVAE` class whose inputs, besides the size of the dataset, are $\\alpha$ (`alpha_prior`), $\\beta$ (`beta_prior`), $\\tau_{\\text{dropout}}$ (`minimal_dropout`). By default, we set $\\alpha = 0.5, \\beta = 0.5, \\tau_{\\text{dropout}} = 0.01$.\n",
    "\n",
    "Note : we can learn $\\alpha,\\beta$ in an Empirical Bayes fashion, which is possible by setting `alpha_prior = None` and `beta_prior = None`"
   ]
  },
  {
   "cell_type": "code",
   "execution_count": 5,
   "metadata": {},
   "outputs": [],
   "source": [
    "autozivae = AutoZIVAE(n_input=pbmc.nb_genes, alpha_prior=0.5, beta_prior=0.5, minimal_dropout=0.01)\n",
    "autozitrainer = UnsupervisedTrainer(autozivae, pbmc)"
   ]
  },
  {
   "cell_type": "markdown",
   "metadata": {},
   "source": [
    "We fit, for each gene $g$, an approximate posterior distribution $q(\\delta_g) = \\text{Beta}(\\alpha^g,\\beta^g)$ (with $\\alpha^g,\\beta^g \\in (0,1)$) on which we rely. We retrieve $\\alpha^g,\\beta^g$ for all genes $g$ (and $\\alpha,\\beta$, if learned) as numpy arrays using the method `get_alphas_betas` of `AutoZIVAE`."
   ]
  },
  {
   "cell_type": "code",
   "execution_count": 6,
   "metadata": {},
   "outputs": [
    {
     "name": "stdout",
     "output_type": "stream",
     "text": [
      "training: 100%|██████████| 200/200 [03:58<00:00,  1.20s/it]\n"
     ]
    }
   ],
   "source": [
    "n_epochs = 200 if n_epochs_all is None else n_epochs_all\n",
    "autozitrainer.train(n_epochs=n_epochs, lr=1e-2)"
   ]
  },
  {
   "cell_type": "code",
   "execution_count": 7,
   "metadata": {},
   "outputs": [],
   "source": [
    "outputs = autozivae.get_alphas_betas()\n",
    "alpha_posterior = outputs['alpha_posterior']\n",
    "beta_posterior = outputs['beta_posterior']"
   ]
  },
  {
   "cell_type": "markdown",
   "metadata": {},
   "source": [
    "Now that we obtained fitted $\\alpha^g,\\beta^g$, different metrics are possible. Bayesian decision theory suggests us the posterior probability of the zero-inflation hypothesis $q(\\delta_g < 0.5)$, but also other metrics such as the mean wrt $q$ of $\\delta_g$ are possible. We focus on the former. We decide that gene $g$ is ZI if and only if $q(\\delta_g < 0.5)$ is greater than a given threshold, say $0.5$. We may note that it is equivalent to $\\alpha^g < \\beta^g$. From this we can deduce the fraction of predicted ZI genes in the dataset."
   ]
  },
  {
   "cell_type": "code",
   "execution_count": 8,
   "metadata": {},
   "outputs": [
    {
     "name": "stdout",
     "output_type": "stream",
     "text": [
      "Fraction of predicted ZI genes : 0.856\n"
     ]
    }
   ],
   "source": [
    "from scipy.stats import beta\n",
    "\n",
    "# Threshold (or Kzinb/Knb+Kzinb in paper)\n",
    "threshold = 0.5\n",
    "\n",
    "# q(delta_g < 0.5) probabilities\n",
    "zi_probs = beta.cdf(0.5,alpha_posterior,beta_posterior)\n",
    "\n",
    "# ZI genes\n",
    "is_zi_pred = (zi_probs > threshold)\n",
    "\n",
    "print('Fraction of predicted ZI genes :', is_zi_pred.mean())"
   ]
  },
  {
   "cell_type": "markdown",
   "metadata": {},
   "source": [
    "We noted that predictions were less accurate for genes $g$ whose average expressions - or predicted NB means, equivalently - were low. Indeed, genes assumed not to be ZI were more often predicted as ZI for such low average expressions. A threshold of 1 proved reasonable to separate genes predicted with more or less accuracy. Hence we may want to focus on predictions for genes with average expression above 1."
   ]
  },
  {
   "cell_type": "code",
   "execution_count": 9,
   "metadata": {},
   "outputs": [
    {
     "name": "stdout",
     "output_type": "stream",
     "text": [
      "Fraction of genes with avg expression > 1 : 0.15\n",
      "Fraction of predicted ZI genes with avg expression > 1 : 0.38\n"
     ]
    }
   ],
   "source": [
    "mask_sufficient_expression = (np.array(pbmc.X.mean(axis=0)) > 1.).reshape(-1)\n",
    "print('Fraction of genes with avg expression > 1 :', mask_sufficient_expression.mean())\n",
    "print('Fraction of predicted ZI genes with avg expression > 1 :', is_zi_pred[mask_sufficient_expression].mean())"
   ]
  },
  {
   "cell_type": "markdown",
   "metadata": {},
   "source": [
    "## Analyze gene-cell-type-specific ZI"
   ]
  },
  {
   "cell_type": "markdown",
   "metadata": {},
   "source": [
    "One may argue that zero-inflation should also be treated on the cell-type (or 'label') level, in addition to the gene level. AutoZI can be extended by assuming a random variable $\\delta_{gc}$ for each gene $g$ and cell type $c$ which denotes the probability that gene $g$ is not zero-inflated in cell-type $c$. The analysis above can be extended to this new scale."
   ]
  },
  {
   "cell_type": "code",
   "execution_count": 10,
   "metadata": {},
   "outputs": [
    {
     "name": "stdout",
     "output_type": "stream",
     "text": [
      "training: 100%|██████████| 200/200 [04:34<00:00,  1.29s/it]\n"
     ]
    }
   ],
   "source": [
    "# Model definition\n",
    "autozivae_genelabel = AutoZIVAE(n_input=pbmc.nb_genes, alpha_prior=0.5, beta_prior=0.5, minimal_dropout=0.01,\n",
    "                         dispersion='gene-label', zero_inflation='gene-label', n_labels=pbmc.n_labels)\n",
    "autozitrainer_genelabel = UnsupervisedTrainer(autozivae_genelabel, pbmc)\n",
    "\n",
    "# Training\n",
    "n_epochs = 200 if n_epochs_all is None else n_epochs_all\n",
    "autozitrainer_genelabel.train(n_epochs=n_epochs, lr=1e-2)\n",
    "\n",
    "# Retrieve posterior distribution parameters\n",
    "outputs_genelabel = autozivae_genelabel.get_alphas_betas()\n",
    "alpha_posterior_genelabel = outputs_genelabel['alpha_posterior']\n",
    "beta_posterior_genelabel = outputs_genelabel['beta_posterior']"
   ]
  },
  {
   "cell_type": "code",
   "execution_count": 11,
   "metadata": {},
   "outputs": [
    {
     "name": "stdout",
     "output_type": "stream",
     "text": [
      "Fraction of predicted ZI genes for cell type B cells : 0.636 \n",
      "\n",
      "Fraction of predicted ZI genes for cell type CD14+ Monocytes : 0.619 \n",
      "\n",
      "Fraction of predicted ZI genes for cell type CD4 T cells : 0.711 \n",
      "\n",
      "Fraction of predicted ZI genes for cell type CD8 T cells : 0.582 \n",
      "\n",
      "Fraction of predicted ZI genes for cell type Dendritic Cells : 0.56 \n",
      "\n",
      "Fraction of predicted ZI genes for cell type FCGR3A+ Monocytes : 0.557 \n",
      "\n",
      "Fraction of predicted ZI genes for cell type Megakaryocytes : 0.586 \n",
      "\n",
      "Fraction of predicted ZI genes for cell type NK cells : 0.599 \n",
      "\n",
      "Fraction of predicted ZI genes for cell type Other : 0.65 \n",
      "\n"
     ]
    }
   ],
   "source": [
    "# q(delta_g < 0.5) probabilities\n",
    "zi_probs_genelabel = beta.cdf(0.5,alpha_posterior_genelabel,beta_posterior_genelabel)\n",
    "\n",
    "# ZI gene-cell-types\n",
    "is_zi_pred_genelabel = (zi_probs_genelabel > threshold)\n",
    "\n",
    "for ind_cell_type, cell_type in enumerate(pbmc.cell_types):\n",
    "    \n",
    "    is_zi_pred_genelabel_here = is_zi_pred_genelabel[:,ind_cell_type]\n",
    "    print('Fraction of predicted ZI genes for cell type {} :'.format(cell_type),\n",
    "          is_zi_pred_genelabel_here.mean(),'\\n')"
   ]
  },
  {
   "cell_type": "code",
   "execution_count": 12,
   "metadata": {},
   "outputs": [
    {
     "name": "stdout",
     "output_type": "stream",
     "text": [
      "Fraction of genes with avg expression > 1 for cell type B cells : 0.089\n",
      "Fraction of predicted ZI genes with avg expression > 1 for cell type B cells : 0.16853932584269662 \n",
      "\n",
      "Fraction of genes with avg expression > 1 for cell type CD14+ Monocytes : 0.169\n",
      "Fraction of predicted ZI genes with avg expression > 1 for cell type CD14+ Monocytes : 0.22485207100591717 \n",
      "\n",
      "Fraction of genes with avg expression > 1 for cell type CD4 T cells : 0.112\n",
      "Fraction of predicted ZI genes with avg expression > 1 for cell type CD4 T cells : 0.25892857142857145 \n",
      "\n",
      "Fraction of genes with avg expression > 1 for cell type CD8 T cells : 0.126\n",
      "Fraction of predicted ZI genes with avg expression > 1 for cell type CD8 T cells : 0.21428571428571427 \n",
      "\n",
      "Fraction of genes with avg expression > 1 for cell type Dendritic Cells : 0.448\n",
      "Fraction of predicted ZI genes with avg expression > 1 for cell type Dendritic Cells : 0.359375 \n",
      "\n",
      "Fraction of genes with avg expression > 1 for cell type FCGR3A+ Monocytes : 0.283\n",
      "Fraction of predicted ZI genes with avg expression > 1 for cell type FCGR3A+ Monocytes : 0.3003533568904594 \n",
      "\n",
      "Fraction of genes with avg expression > 1 for cell type Megakaryocytes : 0.285\n",
      "Fraction of predicted ZI genes with avg expression > 1 for cell type Megakaryocytes : 0.39649122807017545 \n",
      "\n",
      "Fraction of genes with avg expression > 1 for cell type NK cells : 0.153\n",
      "Fraction of predicted ZI genes with avg expression > 1 for cell type NK cells : 0.2549019607843137 \n",
      "\n",
      "Fraction of genes with avg expression > 1 for cell type Other : 0.257\n",
      "Fraction of predicted ZI genes with avg expression > 1 for cell type Other : 0.4085603112840467 \n",
      "\n"
     ]
    }
   ],
   "source": [
    "# With avg expressions > 1\n",
    "for ind_cell_type, cell_type in enumerate(pbmc.cell_types):\n",
    "    mask_sufficient_expression = (np.array(pbmc.X[pbmc.labels.reshape(-1) == ind_cell_type,:].mean(axis=0)) > 1.).reshape(-1)\n",
    "    print('Fraction of genes with avg expression > 1 for cell type {} :'.format(cell_type),\n",
    "          mask_sufficient_expression.mean())\n",
    "    is_zi_pred_genelabel_here = is_zi_pred_genelabel[mask_sufficient_expression,ind_cell_type]\n",
    "    print('Fraction of predicted ZI genes with avg expression > 1 for cell type {} :'.format(cell_type),\n",
    "          is_zi_pred_genelabel_here.mean(), '\\n')"
   ]
  },
  {
   "cell_type": "code",
   "execution_count": null,
   "metadata": {},
   "outputs": [],
   "source": []
  }
 ],
 "metadata": {
  "kernelspec": {
   "display_name": "Python 3",
   "language": "python",
   "name": "python3"
  },
  "language_info": {
   "codemirror_mode": {
    "name": "ipython",
    "version": 3
   },
   "file_extension": ".py",
   "mimetype": "text/x-python",
   "name": "python",
   "nbconvert_exporter": "python",
   "pygments_lexer": "ipython3",
   "version": "3.7.3"
  }
 },
 "nbformat": 4,
 "nbformat_minor": 4
}
